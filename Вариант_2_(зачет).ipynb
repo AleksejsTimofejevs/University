{
 "cells": [
  {
   "cell_type": "markdown",
   "metadata": {
    "id": "DDa13LfgkaJO"
   },
   "source": [
    "30 баллов в сумме.\n",
    "\n",
    "Работы выполняются индивидуально, похожий код отслеживается и не принимается.\n",
    "\n",
    "Решение прикрепляется в ББ в формате IPYBN."
   ]
  },
  {
   "cell_type": "markdown",
   "metadata": {
    "id": "p7X3v5QekgLm"
   },
   "source": [
    "**Задание** **1**\n",
    "\n",
    "Напишите функцию **mean_range** , которая подсчитывает *среднее значение элементов* в файле, значения которых находятся на интервале от минимума до максимума. \n",
    "\n",
    "Функция принимает три аргумента - имя файла, минимальную границу и максимальную границу. Функция возвращает вещественное число (**+3 балла**).\n",
    "\n",
    "Добавьте обработку ошибок (**+2 балла**). \n",
    "\n",
    "Примерное содержимое файла: \n",
    "\n",
    "`6е 5 6 5.1 7.1 4 8 4к`"
   ]
  },
  {
   "cell_type": "code",
   "execution_count": 45,
   "metadata": {},
   "outputs": [],
   "source": [
    "import re"
   ]
  },
  {
   "cell_type": "code",
   "execution_count": 62,
   "metadata": {
    "id": "La0MyrWckhHe"
   },
   "outputs": [],
   "source": [
    "# Не читалась кириллица через UTF-8, поэтому encoding='latin-1'\n",
    "def mean_range(file_name, minimum, maximum):\n",
    "    try:\n",
    "        with open(file_name, encoding='latin-1') as f:\n",
    "            my_lines = f.readlines()\n",
    "            list1 = []\n",
    "            for i in my_lines:\n",
    "                numbers = (re.findall(r'(\\d+(?:\\.\\d+)?)', i))\n",
    "                for k in numbers:\n",
    "                    if minimum <= float(k) <= maximum:\n",
    "                        list1.append(float(k))\n",
    "        return sum(list1)/len(list1)\n",
    "    except TypeError: \n",
    "        print('Введите корректный интервал')"
   ]
  },
  {
   "cell_type": "code",
   "execution_count": 63,
   "metadata": {},
   "outputs": [
    {
     "name": "stdout",
     "output_type": "stream",
     "text": [
      "Введите корректный интервал\n"
     ]
    }
   ],
   "source": [
    "mean_range('text.txt', 'f', 10)"
   ]
  },
  {
   "cell_type": "code",
   "execution_count": 64,
   "metadata": {},
   "outputs": [
    {
     "data": {
      "text/plain": [
       "5.6499999999999995"
      ]
     },
     "execution_count": 64,
     "metadata": {},
     "output_type": "execute_result"
    }
   ],
   "source": [
    "mean_range('text.txt', 1, 10)"
   ]
  },
  {
   "cell_type": "code",
   "execution_count": 65,
   "metadata": {},
   "outputs": [
    {
     "data": {
      "text/plain": [
       "6.2"
      ]
     },
     "execution_count": 65,
     "metadata": {},
     "output_type": "execute_result"
    }
   ],
   "source": [
    "mean_range('text.txt', 5, 10)"
   ]
  },
  {
   "cell_type": "markdown",
   "metadata": {
    "id": "AFQ3c0AWkhbO"
   },
   "source": [
    "**Задание** **2**\n",
    "\n",
    "Объедините содержимое нескольких файлов. \n",
    "\n",
    "Файлы сцепляются в порядке, в котором указываются с клавиатуры (**+5 баллов**). \n",
    "\n",
    "Добавьте обработку ошибок, если файл не может быть открыт (**+5 баллов**).\n",
    "\n",
    "```\n",
    "Укажите входные файлы: 7.txt 8.txt\n",
    "\n",
    "Укажите выходной файл: 10.txt\n",
    "```\n",
    "\n"
   ]
  },
  {
   "cell_type": "code",
   "execution_count": 95,
   "metadata": {
    "id": "dZ4sCypRkjfH"
   },
   "outputs": [
    {
     "name": "stdout",
     "output_type": "stream",
     "text": [
      "Один из файлов не найден или не может быть открыт\n"
     ]
    }
   ],
   "source": [
    "# Та же проблема с UTF-8, поэтому 'latin-1'\n",
    "# Список файлов в нужном порядке\n",
    "filenames = ['7.txt', '8.txt']\n",
    "\n",
    "# Объединение файлов\n",
    "try:\n",
    "    with open('10.txt', 'w') as outfile:\n",
    "        for fname in filenames:\n",
    "            with open(fname, encoding='latin-1') as infile:\n",
    "                outfile.write(infile.read())\n",
    "    print('Файлы успешно объединены!')\n",
    "except: print('Один из файлов не найден или не может быть открыт')"
   ]
  },
  {
   "cell_type": "markdown",
   "metadata": {
    "id": "alGNTIiXkjzm"
   },
   "source": [
    "**Задание 3**\n",
    "\n",
    "Программа считывает числа из файла. \n",
    "\n",
    "Сначала вывести на экран *среднее значение* введённого ряда чисел, потом *сумму чисел* ниже среднего, равных ему, выше среднего (**+5 баллов**). \n",
    "\n",
    "Обработайте возможные ошибки (**+5 баллов**). \n",
    "\n",
    "Примерное содержимое входного файла:  \n",
    "\n",
    "`4.5 5 3d 3 1 3.4 5r`"
   ]
  },
  {
   "cell_type": "code",
   "execution_count": 124,
   "metadata": {
    "id": "V6bTgPF1klsu"
   },
   "outputs": [],
   "source": [
    "def summary(file_name):\n",
    "    try:\n",
    "        with open(file_name, encoding='latin-1') as f:\n",
    "            my_lines = f.readlines()\n",
    "            list1 = []\n",
    "            for i in my_lines:\n",
    "                numbers = (re.findall(r'(\\d+(?:\\.\\d+)?)', i))\n",
    "                for k in numbers:\n",
    "                    list1.append(float(k))\n",
    "            average = sum(list1)/len(list1)\n",
    "        \n",
    "            below_av = []\n",
    "            above_av = []\n",
    "            for n in list1:\n",
    "                if n > average:\n",
    "                    above_av.append(float(n))\n",
    "                elif n < average:\n",
    "                    below_av.append(float(n))\n",
    "            \n",
    "        return f'Сумма чисел больше среднего {sum(above_av)}, Сумма чисел меньше среднего {sum(below_av)}, Сумма чисел равная среднему {(len(list1) - len(below_av) - len(above_av)) * average}'\n",
    "    \n",
    "    except: 'Ошибка открытия файла'"
   ]
  },
  {
   "cell_type": "code",
   "execution_count": 125,
   "metadata": {},
   "outputs": [
    {
     "data": {
      "text/plain": [
       "'Сумма чисел больше среднего 54.2, Сумма чисел меньше среднего 36.2, Сумма чисел равная среднему 0.0'"
      ]
     },
     "execution_count": 125,
     "metadata": {},
     "output_type": "execute_result"
    }
   ],
   "source": [
    "summary('text.txt')"
   ]
  },
  {
   "cell_type": "markdown",
   "metadata": {
    "id": "vIwI8lBukoE-"
   },
   "source": [
    "**Задание 4** (**+5 баллов**)\n",
    "\n",
    "Создайте класс Document, который работает с текстовым файлом.\n",
    "\n",
    "Определите метод для инициализации `__init__`\n",
    "\n",
    "Определите метод для красивой печати через функцию *print*, используя специальный метод `__str__`\n",
    "\n",
    "Создайте объект, протестируйте методы.\n",
    "\n",
    "*Пример создания объекта:*\n",
    "\n",
    "```\n",
    "# второй аргумент - строка, которая записывается в файл\n",
    ">>> doc = Document(\"file.txt\", \"text\") \n",
    "\n",
    "print(doc)\n",
    "```\n",
    "\n"
   ]
  },
  {
   "cell_type": "code",
   "execution_count": 120,
   "metadata": {
    "id": "obA8mkT2kpY-"
   },
   "outputs": [],
   "source": [
    "class Document:\n",
    "    \n",
    "    def __init__(self, filename, string):\n",
    "        self.filename = filename\n",
    "        self.string = string\n",
    "    \n",
    "    def __str__(self):\n",
    "        return f'Название файла: {self.filename}'\n",
    "    \n",
    "    def write(self):\n",
    "        with open(self.filename, 'w') as f:\n",
    "            f.write(self.string)\n",
    "    \n",
    "    def read(self):\n",
    "        with open(self.filename) as f:\n",
    "            return f.read()"
   ]
  },
  {
   "cell_type": "code",
   "execution_count": 121,
   "metadata": {},
   "outputs": [
    {
     "name": "stdout",
     "output_type": "stream",
     "text": [
      "Название файла: file.txt\n"
     ]
    }
   ],
   "source": [
    "doc = Document(\"file.txt\", \"text\")\n",
    "\n",
    "print(doc)"
   ]
  },
  {
   "cell_type": "code",
   "execution_count": 122,
   "metadata": {},
   "outputs": [],
   "source": [
    "doc.write()"
   ]
  },
  {
   "cell_type": "code",
   "execution_count": 123,
   "metadata": {},
   "outputs": [
    {
     "name": "stdout",
     "output_type": "stream",
     "text": [
      "text\n"
     ]
    }
   ],
   "source": [
    "print(doc.read())"
   ]
  }
 ],
 "metadata": {
  "colab": {
   "name": "Вариант 2 (зачет).ipynb",
   "provenance": []
  },
  "kernelspec": {
   "display_name": "Python 3",
   "language": "python",
   "name": "python3"
  },
  "language_info": {
   "codemirror_mode": {
    "name": "ipython",
    "version": 3
   },
   "file_extension": ".py",
   "mimetype": "text/x-python",
   "name": "python",
   "nbconvert_exporter": "python",
   "pygments_lexer": "ipython3",
   "version": "3.7.4"
  }
 },
 "nbformat": 4,
 "nbformat_minor": 1
}

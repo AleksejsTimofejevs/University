{
 "cells": [
  {
   "cell_type": "markdown",
   "metadata": {
    "id": "advisory-creek"
   },
   "source": [
    "# Текущий контроль успеваемости 2"
   ]
  },
  {
   "cell_type": "markdown",
   "metadata": {
    "id": "fresh-environment"
   },
   "source": [
    "<a href=\"https://colab.research.google.com/github/dm-fedorov/python_basic/blob/master/gsom/02/Текущий_контроль_02.ipynb\" target=\"_blank\"><img align=\"left\" src=\"https://colab.research.google.com/assets/colab-badge.svg\" alt=\"Open in Colab\" title=\"Open and Execute in Google Colaboratory\"></a>"
   ]
  },
  {
   "cell_type": "markdown",
   "metadata": {
    "id": "corresponding-worse"
   },
   "source": [
    "Коллеги, поздравляю!\n",
    "\n",
    "Вы успешно справлись с первым испытанием, но расслабляться еще рано!\n",
    "\n",
    "В этом Блокноте вам предстоит решить несколько творческих заданий, связанных с проектированием и реализацией объектно-ориентированной программы!   \n",
    "\n",
    "Успехов!\n",
    "\n",
    "![](https://github.com/dm-fedorov/python_basic/blob/master/gsom/02/pic.png?raw=True)"
   ]
  },
  {
   "cell_type": "markdown",
   "metadata": {
    "id": "voluntary-covering"
   },
   "source": [
    "В сумме можно набрать `15 баллов`:\n",
    "\n",
    "1) `+2 балла` за оформление Блокнота: наличие комментариев в стиле Python (после `#`) или разметки [markdown](https://www.markdownguide.org/basic-syntax/)\n",
    "\n",
    "2) `+13 баллов` по сумме заданий\n",
    "\n",
    "3) если загружаете позже обозначенного срока, то `-3 балла`\n",
    "\n",
    "4) продолжаю надеяться на сознательность студентов ВШМ СПбГУ, что задания будут выполняться самостоятельно `:^)`. Полезнее задать вопрос преподавателю, чем бездумно списать решение у онлайн соседа."
   ]
  },
  {
   "cell_type": "markdown",
   "metadata": {
    "id": "placed-visit"
   },
   "source": [
    "## Задание 1 (5 баллов + 3 балла за доп.задание)\n",
    "\n",
    "Разработайте систему бронирования номеров в отеле.\n",
    "\n",
    "![](https://github.com/dm-fedorov/python_basic/blob/master/gsom/02/reception_1.jpg?raw=True)"
   ]
  },
  {
   "cell_type": "markdown",
   "metadata": {
    "id": "legislative-native"
   },
   "source": [
    "**Задачи (в сумме 5 баллов):**\n",
    "- допишите метод `occypy`, чтобы он проверял занятость номера перед бронировнием: если номер занят, то генерируется исключение `RuntimeError`\n",
    "- напишите метод `__str__` для красивой печати списка номеров через вызов функции `print`\n",
    "- напишите метод, который занимает все *свободные* номера в отеле\n",
    "- напишите метод, который возвращает долю занятых номеров\n",
    "- напишите метод, который освобождает все занятые номера отеля\n",
    "- напишите метод, который возвращает выручку, исходя из занятости комнат (стоимость комнаты - 5 тыс. у.е.)\n",
    "- проверьте созданные методы через создание объектов и их вызов"
   ]
  },
  {
   "cell_type": "markdown",
   "metadata": {
    "id": "suburban-rhythm"
   },
   "source": [
    "Дополните следующий класс:"
   ]
  },
  {
   "cell_type": "code",
   "execution_count": 1,
   "metadata": {
    "id": "seeing-fossil",
    "outputId": "67d1af7c-f5a4-4051-9aa2-a280e6c0adb9"
   },
   "outputs": [],
   "source": [
    "class Hotel:\n",
    "    \n",
    "    def __init__(self, num_rooms):\n",
    "        self._room_numbers = [i for i in range(1,num_rooms+1)]\n",
    "        self._rooms = [0 for _ in range(num_rooms)] # информация о статусе номеров\n",
    "    \n",
    "    # красивая печать списка номеров\n",
    "    def __str__(self):\n",
    "        return f\"Номер комнаты: {self._room_numbers} \\nЗанят. комнаты: {self._rooms}\"\n",
    "        \n",
    "    # метод для бронирования номера по уникальному значению в списке (Номеру комнаты)\n",
    "    def occypy(self, room_id):\n",
    "        if room_id > len(self._rooms):\n",
    "            raise ValueError('Нет такого номера!')\n",
    "        elif self._rooms[room_id-1] == 1:\n",
    "            raise RuntimeError(\"Номер уже занят!\")\n",
    "        else:\n",
    "            self._rooms[room_id-1] = 1  # бронируем номер\n",
    "            \n",
    "    # метод для освобождения номера по уникальному значению в списке (Номеру комнаты)\n",
    "    def free(self, room_id):\n",
    "        if room_id > len(self._rooms):\n",
    "            raise ValueError('Нет такого номера!')\n",
    "        elif self._rooms[room_id-1] == 0:\n",
    "            raise RuntimeError(\"Номер и так свободен!\")\n",
    "        else:\n",
    "            self._rooms[room_id-1] = 0  # освобождаем номер\n",
    "    \n",
    "    # метод для заселения всех свободных номеров в отеле\n",
    "    def occypy_all(self):\n",
    "        self._counter = 0\n",
    "        for i in range(len(self._rooms)):\n",
    "            if self._rooms[i] == 1:\n",
    "                pass\n",
    "            else:\n",
    "                self._rooms[i] = 1\n",
    "                self._counter += 1\n",
    "        print(f'Заселили {self._counter} комнат. Больше свободных номеров нет.')\n",
    "        \n",
    "    # метод, который освобождает все занятые номера отеля\n",
    "    def free_all(self):\n",
    "        self._counter = 0\n",
    "        for i in range(len(self._rooms)):\n",
    "            if self._rooms[i] == 0:\n",
    "                pass\n",
    "            else:\n",
    "                self._rooms[i] = 0\n",
    "                self._counter += 1\n",
    "        print(f'Освободили {self._counter} комнат. Все номера свободны.')\n",
    "        \n",
    "    # метод, который возвращает долю занятых номеров\n",
    "    def free_ratio(self):\n",
    "        return f'Доля занятых номеров в этом отеле: {self._rooms.count(1)/len(self._rooms)}'\n",
    "    \n",
    "    # метод, который возвращает выручку, исходя из занятости комнат (стоимость комнаты - 5 тыс. у.е.)\n",
    "    def revenue(self, cost_per_room = 5000):\n",
    "        self._cost_per_room = cost_per_room\n",
    "        return f'Прогноз выручки: {self._rooms.count(1) * self._cost_per_room} у.е.'"
   ]
  },
  {
   "cell_type": "code",
   "execution_count": 2,
   "metadata": {},
   "outputs": [],
   "source": [
    "hotel1 = Hotel(5) # в нашем отеле, например, 5 номеров\n",
    "hotel2 = Hotel(8) # в нашем отеле, например, 8 номеров"
   ]
  },
  {
   "cell_type": "code",
   "execution_count": 3,
   "metadata": {},
   "outputs": [
    {
     "name": "stdout",
     "output_type": "stream",
     "text": [
      "Номер комнаты: [1, 2, 3, 4, 5, 6, 7, 8] \n",
      "Занят. комнаты: [0, 0, 0, 0, 0, 0, 0, 0]\n"
     ]
    }
   ],
   "source": [
    "print(hotel2) # проверка красивой печати"
   ]
  },
  {
   "cell_type": "code",
   "execution_count": 4,
   "metadata": {},
   "outputs": [
    {
     "ename": "RuntimeError",
     "evalue": "Номер уже занят!",
     "output_type": "error",
     "traceback": [
      "\u001b[0;31m---------------------------------------------------------------------------\u001b[0m",
      "\u001b[0;31mRuntimeError\u001b[0m                              Traceback (most recent call last)",
      "\u001b[0;32m<ipython-input-4-9e5fc91c5f00>\u001b[0m in \u001b[0;36m<module>\u001b[0;34m\u001b[0m\n\u001b[1;32m      1\u001b[0m \u001b[0;31m# Проверка обработки ошибок\u001b[0m\u001b[0;34m\u001b[0m\u001b[0;34m\u001b[0m\u001b[0;34m\u001b[0m\u001b[0m\n\u001b[1;32m      2\u001b[0m \u001b[0mhotel1\u001b[0m\u001b[0;34m.\u001b[0m\u001b[0moccypy\u001b[0m\u001b[0;34m(\u001b[0m\u001b[0;36m1\u001b[0m\u001b[0;34m)\u001b[0m\u001b[0;34m\u001b[0m\u001b[0;34m\u001b[0m\u001b[0m\n\u001b[0;32m----> 3\u001b[0;31m \u001b[0mhotel1\u001b[0m\u001b[0;34m.\u001b[0m\u001b[0moccypy\u001b[0m\u001b[0;34m(\u001b[0m\u001b[0;36m1\u001b[0m\u001b[0;34m)\u001b[0m\u001b[0;34m\u001b[0m\u001b[0;34m\u001b[0m\u001b[0m\n\u001b[0m",
      "\u001b[0;32m<ipython-input-1-009a92c94a4b>\u001b[0m in \u001b[0;36moccypy\u001b[0;34m(self, room_id)\u001b[0m\n\u001b[1;32m     14\u001b[0m             \u001b[0;32mraise\u001b[0m \u001b[0mValueError\u001b[0m\u001b[0;34m(\u001b[0m\u001b[0;34m'Нет такого номера!'\u001b[0m\u001b[0;34m)\u001b[0m\u001b[0;34m\u001b[0m\u001b[0;34m\u001b[0m\u001b[0m\n\u001b[1;32m     15\u001b[0m         \u001b[0;32melif\u001b[0m \u001b[0mself\u001b[0m\u001b[0;34m.\u001b[0m\u001b[0m_rooms\u001b[0m\u001b[0;34m[\u001b[0m\u001b[0mroom_id\u001b[0m\u001b[0;34m-\u001b[0m\u001b[0;36m1\u001b[0m\u001b[0;34m]\u001b[0m \u001b[0;34m==\u001b[0m \u001b[0;36m1\u001b[0m\u001b[0;34m:\u001b[0m\u001b[0;34m\u001b[0m\u001b[0;34m\u001b[0m\u001b[0m\n\u001b[0;32m---> 16\u001b[0;31m             \u001b[0;32mraise\u001b[0m \u001b[0mRuntimeError\u001b[0m\u001b[0;34m(\u001b[0m\u001b[0;34m\"Номер уже занят!\"\u001b[0m\u001b[0;34m)\u001b[0m\u001b[0;34m\u001b[0m\u001b[0;34m\u001b[0m\u001b[0m\n\u001b[0m\u001b[1;32m     17\u001b[0m         \u001b[0;32melse\u001b[0m\u001b[0;34m:\u001b[0m\u001b[0;34m\u001b[0m\u001b[0;34m\u001b[0m\u001b[0m\n\u001b[1;32m     18\u001b[0m             \u001b[0mself\u001b[0m\u001b[0;34m.\u001b[0m\u001b[0m_rooms\u001b[0m\u001b[0;34m[\u001b[0m\u001b[0mroom_id\u001b[0m\u001b[0;34m-\u001b[0m\u001b[0;36m1\u001b[0m\u001b[0;34m]\u001b[0m \u001b[0;34m=\u001b[0m \u001b[0;36m1\u001b[0m  \u001b[0;31m# бронируем номер\u001b[0m\u001b[0;34m\u001b[0m\u001b[0;34m\u001b[0m\u001b[0m\n",
      "\u001b[0;31mRuntimeError\u001b[0m: Номер уже занят!"
     ]
    }
   ],
   "source": [
    "# Проверка обработки ошибок\n",
    "hotel1.occypy(1)\n",
    "hotel1.occypy(1)"
   ]
  },
  {
   "cell_type": "code",
   "execution_count": 5,
   "metadata": {},
   "outputs": [
    {
     "ename": "ValueError",
     "evalue": "Нет такого номера!",
     "output_type": "error",
     "traceback": [
      "\u001b[0;31m---------------------------------------------------------------------------\u001b[0m",
      "\u001b[0;31mValueError\u001b[0m                                Traceback (most recent call last)",
      "\u001b[0;32m<ipython-input-5-8b09ba080b7e>\u001b[0m in \u001b[0;36m<module>\u001b[0;34m\u001b[0m\n\u001b[0;32m----> 1\u001b[0;31m \u001b[0mhotel2\u001b[0m\u001b[0;34m.\u001b[0m\u001b[0moccypy\u001b[0m\u001b[0;34m(\u001b[0m\u001b[0;36m9\u001b[0m\u001b[0;34m)\u001b[0m\u001b[0;34m\u001b[0m\u001b[0;34m\u001b[0m\u001b[0m\n\u001b[0m",
      "\u001b[0;32m<ipython-input-1-009a92c94a4b>\u001b[0m in \u001b[0;36moccypy\u001b[0;34m(self, room_id)\u001b[0m\n\u001b[1;32m     12\u001b[0m     \u001b[0;32mdef\u001b[0m \u001b[0moccypy\u001b[0m\u001b[0;34m(\u001b[0m\u001b[0mself\u001b[0m\u001b[0;34m,\u001b[0m \u001b[0mroom_id\u001b[0m\u001b[0;34m)\u001b[0m\u001b[0;34m:\u001b[0m\u001b[0;34m\u001b[0m\u001b[0;34m\u001b[0m\u001b[0m\n\u001b[1;32m     13\u001b[0m         \u001b[0;32mif\u001b[0m \u001b[0mroom_id\u001b[0m \u001b[0;34m>\u001b[0m \u001b[0mlen\u001b[0m\u001b[0;34m(\u001b[0m\u001b[0mself\u001b[0m\u001b[0;34m.\u001b[0m\u001b[0m_rooms\u001b[0m\u001b[0;34m)\u001b[0m\u001b[0;34m:\u001b[0m\u001b[0;34m\u001b[0m\u001b[0;34m\u001b[0m\u001b[0m\n\u001b[0;32m---> 14\u001b[0;31m             \u001b[0;32mraise\u001b[0m \u001b[0mValueError\u001b[0m\u001b[0;34m(\u001b[0m\u001b[0;34m'Нет такого номера!'\u001b[0m\u001b[0;34m)\u001b[0m\u001b[0;34m\u001b[0m\u001b[0;34m\u001b[0m\u001b[0m\n\u001b[0m\u001b[1;32m     15\u001b[0m         \u001b[0;32melif\u001b[0m \u001b[0mself\u001b[0m\u001b[0;34m.\u001b[0m\u001b[0m_rooms\u001b[0m\u001b[0;34m[\u001b[0m\u001b[0mroom_id\u001b[0m\u001b[0;34m-\u001b[0m\u001b[0;36m1\u001b[0m\u001b[0;34m]\u001b[0m \u001b[0;34m==\u001b[0m \u001b[0;36m1\u001b[0m\u001b[0;34m:\u001b[0m\u001b[0;34m\u001b[0m\u001b[0;34m\u001b[0m\u001b[0m\n\u001b[1;32m     16\u001b[0m             \u001b[0;32mraise\u001b[0m \u001b[0mRuntimeError\u001b[0m\u001b[0;34m(\u001b[0m\u001b[0;34m\"Номер уже занят!\"\u001b[0m\u001b[0;34m)\u001b[0m\u001b[0;34m\u001b[0m\u001b[0;34m\u001b[0m\u001b[0m\n",
      "\u001b[0;31mValueError\u001b[0m: Нет такого номера!"
     ]
    }
   ],
   "source": [
    "hotel2.occypy(9)"
   ]
  },
  {
   "cell_type": "code",
   "execution_count": 6,
   "metadata": {},
   "outputs": [
    {
     "name": "stdout",
     "output_type": "stream",
     "text": [
      "Номер комнаты: [1, 2, 3, 4, 5, 6, 7, 8] \n",
      "Занят. комнаты: [1, 1, 0, 0, 1, 0, 0, 1]\n"
     ]
    }
   ],
   "source": [
    "# Проверка методов occypy и free\n",
    "hotel2.occypy(1)\n",
    "hotel2.occypy(2)\n",
    "hotel2.occypy(5)\n",
    "hotel2.occypy(8)\n",
    "hotel2.occypy(3)\n",
    "hotel2.free(3)\n",
    "print(hotel2)"
   ]
  },
  {
   "cell_type": "code",
   "execution_count": 7,
   "metadata": {},
   "outputs": [
    {
     "data": {
      "text/plain": [
       "'Доля занятых номеров в этом отеле: 0.5'"
      ]
     },
     "execution_count": 7,
     "metadata": {},
     "output_type": "execute_result"
    }
   ],
   "source": [
    "# Проверка методов free_ratio и revenue\n",
    "hotel2.free_ratio()"
   ]
  },
  {
   "cell_type": "code",
   "execution_count": 8,
   "metadata": {},
   "outputs": [
    {
     "data": {
      "text/plain": [
       "'Прогноз выручки: 20000 у.е.'"
      ]
     },
     "execution_count": 8,
     "metadata": {},
     "output_type": "execute_result"
    }
   ],
   "source": [
    "hotel2.revenue()"
   ]
  },
  {
   "cell_type": "code",
   "execution_count": 9,
   "metadata": {},
   "outputs": [
    {
     "name": "stdout",
     "output_type": "stream",
     "text": [
      "Заселили 4 комнат. Больше свободных номеров нет.\n",
      "Номер комнаты: [1, 2, 3, 4, 5, 6, 7, 8] \n",
      "Занят. комнаты: [1, 1, 1, 1, 1, 1, 1, 1]\n"
     ]
    }
   ],
   "source": [
    "# Проверка методов occypy_all и free_all\n",
    "hotel2.occypy_all()\n",
    "print(hotel2)"
   ]
  },
  {
   "cell_type": "code",
   "execution_count": 10,
   "metadata": {},
   "outputs": [
    {
     "name": "stdout",
     "output_type": "stream",
     "text": [
      "Освободили 8 комнат. Все номера свободны.\n",
      "Номер комнаты: [1, 2, 3, 4, 5, 6, 7, 8] \n",
      "Занят. комнаты: [0, 0, 0, 0, 0, 0, 0, 0]\n"
     ]
    }
   ],
   "source": [
    "hotel2.free_all()\n",
    "print(hotel2)"
   ]
  },
  {
   "cell_type": "markdown",
   "metadata": {
    "id": "exact-advocate"
   },
   "source": [
    "**Дополнительные задачи (в сумме +3 балла):**\n",
    "- вместо списка создайте словарь для хранения различных типов номеров (*SGL*, *DBL* и *Junior Suite*, *Suite*) и их занятости\n",
    "- у комнат разная стоимость (хранить ее можно в словаре)\n",
    "- измените методы, написанные раннее так, чтобы учесть новые особенности номеров (например, добавляется тип номера при бронировании)\n",
    "- проверьте созданные методы через создание объектов и их вызов"
   ]
  },
  {
   "cell_type": "code",
   "execution_count": 11,
   "metadata": {
    "id": "unlikely-accounting"
   },
   "outputs": [],
   "source": [
    "class Hotel1:\n",
    "    \n",
    "    def __init__(self, num_sgl = 5, num_dbl= 1, num_js = 1, num_s = 1):\n",
    "        self._rooms = {'SGL': [0 for _ in range(num_sgl)],\n",
    "                       'DBL': [0 for _ in range(num_dbl)],\n",
    "                       'Junior Suite': [0 for _ in range(num_js)],\n",
    "                       'Suite': [0 for _ in range(num_s)],\n",
    "                      } # информация о статусе номеров\n",
    "    \n",
    "    # красивая печать списка номеров\n",
    "    def __str__(self):\n",
    "        return f\"Список комнат: {self._rooms}\"\n",
    "        \n",
    "    # метод для бронирования номера по уникальному значению в списке (Номеру комнаты)\n",
    "    def occypy(self, room_id=1, room_type='SGL'):\n",
    "        if room_id > len(self._rooms[room_type]):\n",
    "            raise ValueError('Нет такого номера!')\n",
    "        elif self._rooms[room_type][room_id-1] == 1:\n",
    "            raise RuntimeError(\"Номер уже занят!\")\n",
    "        else:\n",
    "            self._rooms[room_type][room_id-1] = 1  # бронируем номер\n",
    "            \n",
    "    # метод для освобождения номера по уникальному значению в списке (Номеру комнаты)\n",
    "    def free(self, room_id=1, room_type='SGL'):\n",
    "        if room_id > len(self._rooms[room_type]):\n",
    "            raise ValueError('Нет такого номера!')\n",
    "        elif self._rooms[room_type][room_id-1] == 0:\n",
    "            raise RuntimeError(\"Номер и так свободен!\")\n",
    "        else:\n",
    "            self._rooms[room_type][room_id-1] = 0  # освобождаем номер\n",
    "    \n",
    "    # метод для заселения всех свободных номеров в отеле\n",
    "    def occypy_all(self):\n",
    "        for key in self._rooms:\n",
    "            self._counter = 0\n",
    "            for i in range(len(self._rooms[key])):\n",
    "                if self._rooms[key][i] == 1:\n",
    "                    pass\n",
    "                else:\n",
    "                    self._rooms[key][i] = 1\n",
    "                    self._counter += 1\n",
    "            print(f'Заселили {self._counter} комнат типа {key}. Больше свободных номеров данного типа нет.')\n",
    "        \n",
    "    # метод, который освобождает все занятые номера отеля\n",
    "    def free_all(self):\n",
    "        for key in self._rooms:\n",
    "            self._counter = 0\n",
    "            for i in range(len(self._rooms[key])):\n",
    "                if self._rooms[key][i] == 0:\n",
    "                    pass\n",
    "                else:\n",
    "                    self._rooms[key][i] = 0\n",
    "                    self._counter += 1\n",
    "            print(f'Освободили {self._counter} комнат типа {key}. Все номера данного типа свободны.')\n",
    "        \n",
    "    # метод, который возвращает долю занятых номеров\n",
    "    def free_ratio(self):\n",
    "        self._rums_occupied = 0\n",
    "        self._rums_total = 0\n",
    "        for key in self._rooms:\n",
    "            self._rums_occupied+=self._rooms[key].count(1)\n",
    "            self._rums_total+=len(self._rooms[key])\n",
    "        print(f'Доля занятых номеров в этом отеле: {self._rums_occupied/self._rums_total}')\n",
    "    \n",
    "    # метод, который возвращает выручку, исходя из занятости комнат (стоимость комнаты - 5 тыс. у.е.)\n",
    "    def revenue(self, cost_per_sgl=5000, cost_per_dbl=6000, cost_per_js=8000, cost_per_s=10000):\n",
    "        self._cost_per_sgl = cost_per_sgl\n",
    "        self._cost_per_dbl = cost_per_dbl\n",
    "        self._cost_per_js = cost_per_js\n",
    "        self._cost_per_s = cost_per_s\n",
    "        self._rums_occupied = []\n",
    "        for key in self._rooms:\n",
    "            self._rums_occupied.append(self._rooms[key].count(1))\n",
    "        self.revenue = self._rums_occupied[0]*self._cost_per_sgl+self._rums_occupied[1]*self._cost_per_dbl+self._rums_occupied[2]*self._cost_per_js+self._rums_occupied[3]*self._cost_per_s\n",
    "        return f'Прогноз выручки: {self.revenue} у.е.'"
   ]
  },
  {
   "cell_type": "code",
   "execution_count": 12,
   "metadata": {},
   "outputs": [
    {
     "name": "stdout",
     "output_type": "stream",
     "text": [
      "Список комнат: {'SGL': [0, 0, 0, 0, 0], 'DBL': [0, 0], 'Junior Suite': [0, 0], 'Suite': [0]}\n"
     ]
    }
   ],
   "source": [
    "hotel3 = Hotel1(5, 2, 2, 1)\n",
    "print(hotel3)"
   ]
  },
  {
   "cell_type": "code",
   "execution_count": 13,
   "metadata": {},
   "outputs": [
    {
     "name": "stdout",
     "output_type": "stream",
     "text": [
      "Список комнат: {'SGL': [1, 0, 0, 1, 0], 'DBL': [0, 1], 'Junior Suite': [0, 0], 'Suite': [1]}\n"
     ]
    }
   ],
   "source": [
    "# Проверка методов occypy и free\n",
    "hotel3.occypy(1)\n",
    "hotel3.occypy(4)\n",
    "hotel3.occypy(1, 'Suite')\n",
    "hotel3.occypy(2, 'DBL')\n",
    "hotel3.occypy(5)\n",
    "hotel3.free(5)\n",
    "print(hotel3)"
   ]
  },
  {
   "cell_type": "code",
   "execution_count": 14,
   "metadata": {},
   "outputs": [
    {
     "name": "stdout",
     "output_type": "stream",
     "text": [
      "Доля занятых номеров в этом отеле: 0.4\n"
     ]
    }
   ],
   "source": [
    "# Проверка методов free_ratio и revenue\n",
    "hotel3.free_ratio()"
   ]
  },
  {
   "cell_type": "code",
   "execution_count": 15,
   "metadata": {},
   "outputs": [
    {
     "data": {
      "text/plain": [
       "'Прогноз выручки: 26000 у.е.'"
      ]
     },
     "execution_count": 15,
     "metadata": {},
     "output_type": "execute_result"
    }
   ],
   "source": [
    "hotel3.revenue()"
   ]
  },
  {
   "cell_type": "code",
   "execution_count": 16,
   "metadata": {},
   "outputs": [
    {
     "name": "stdout",
     "output_type": "stream",
     "text": [
      "Заселили 3 комнат типа SGL. Больше свободных номеров данного типа нет.\n",
      "Заселили 1 комнат типа DBL. Больше свободных номеров данного типа нет.\n",
      "Заселили 2 комнат типа Junior Suite. Больше свободных номеров данного типа нет.\n",
      "Заселили 0 комнат типа Suite. Больше свободных номеров данного типа нет.\n"
     ]
    }
   ],
   "source": [
    "# Проверка методов occypy_all и free_all\n",
    "hotel3.occypy_all()"
   ]
  },
  {
   "cell_type": "code",
   "execution_count": 17,
   "metadata": {},
   "outputs": [
    {
     "name": "stdout",
     "output_type": "stream",
     "text": [
      "Список комнат: {'SGL': [1, 1, 1, 1, 1], 'DBL': [1, 1], 'Junior Suite': [1, 1], 'Suite': [1]}\n"
     ]
    }
   ],
   "source": [
    "print(hotel3)"
   ]
  },
  {
   "cell_type": "code",
   "execution_count": 18,
   "metadata": {},
   "outputs": [
    {
     "name": "stdout",
     "output_type": "stream",
     "text": [
      "Освободили 5 комнат типа SGL. Все номера данного типа свободны.\n",
      "Освободили 2 комнат типа DBL. Все номера данного типа свободны.\n",
      "Освободили 2 комнат типа Junior Suite. Все номера данного типа свободны.\n",
      "Освободили 1 комнат типа Suite. Все номера данного типа свободны.\n"
     ]
    }
   ],
   "source": [
    "hotel3.free_all()"
   ]
  },
  {
   "cell_type": "markdown",
   "metadata": {
    "id": "european-preserve"
   },
   "source": [
    "## Задание 2 (5 баллов)\n",
    "\n",
    "В этом задании можно и нужно фантазировать `:-)`\n",
    "\n",
    "Провести объектно-ориентированный анализ задачи и определить объекты (создать классы с заданным поведением по аналогии с [кошкой](https://github.com/dm-fedorov/python3_intro/blob/master/lesson_11/class_cat_eat.log)), которые потребуется использовать:\n",
    "\n",
    "- создается текстовая компьютерная игра, поддерживающая одновременное управление несколькими персонажами (множество объектов);\n",
    "- каждый персонаж умеет бегать, стрелять и собирать предметы;\n",
    "- некоторые персонажи умеют летать (использовать наследование классов);\n",
    "- каждый тип действий сопровождается определенной анимацией (подсказка: [изменением координат](https://github.com/dm-fedorov/python3_intro/blob/master/lesson_11/my_shape.py));\n",
    "- собираемые предметы могут менять характеристики действий и соответствующую анимацию (например, вдвое ускорять или, наоборот, замедлять бег персонажа).\n",
    "\n",
    "![](https://github.com/dm-fedorov/python_basic/blob/master/gsom/02/fantasy_mini.jpg?raw=True)"
   ]
  },
  {
   "cell_type": "code",
   "execution_count": 40,
   "metadata": {},
   "outputs": [],
   "source": [
    "from random import randint\n",
    "from math import sqrt"
   ]
  },
  {
   "cell_type": "code",
   "execution_count": 41,
   "metadata": {},
   "outputs": [],
   "source": [
    "# Функция принимает 2 вектора в виде списка координат и вычисляет расстояние между данными точками\n",
    "def distance(v1, v2):\n",
    "    distance = sqrt((v1[0] - v2[0])**2 + (v1[1] - v2[1])**2 + (v1[2] - v2[2])**2)\n",
    "    return distance"
   ]
  },
  {
   "cell_type": "code",
   "execution_count": 42,
   "metadata": {
    "id": "equal-dynamics"
   },
   "outputs": [],
   "source": [
    "# Класс стандартного персонажа (умеет перемещаться, атаковать и получать бонус)\n",
    "class Hero:\n",
    "    \n",
    "    def __init__(self, name='Untitled', x=0, y=0, md=3, h=100, a=20):\n",
    "        self._name = name\n",
    "        self._info = {'Coordinates': [x, y, 0],\n",
    "                     'Move Distance': md,\n",
    "                     'Health': h,\n",
    "                     'Atack': a,\n",
    "                     'Status': 'Alive'}\n",
    "\n",
    "    # Вывод информации о герое\n",
    "    def __str__(self):\n",
    "        return f\"Здоровье: {self._info['Health']}\\nАтака: {self._info['Atack']}\\nДальность перемещения: {self._info['Move Distance']}\\nТекущие координаты: {self._info['Coordinates']}\\nСтатус: {self._info['Status']}\"\n",
    "        \n",
    "    # Функция перемещения по определенным координатам   \n",
    "    def move(self, x=0, y=0):\n",
    "        self._destination = [x, y, 0]\n",
    "        \n",
    "        if distance(self._info['Coordinates'], self._destination) <= self._info['Move Distance']:\n",
    "            self._info['Coordinates'] = self._destination\n",
    "            print(f'Персонаж успешно переместился по координатам {self._destination}!')\n",
    "        else:\n",
    "            print('Слишком далеко, я не могу до туда добраться!')\n",
    "    \n",
    "    # Функция атаки другого игрока, если тот в пределах дальности перемещения\n",
    "    def fight(self, enemy):\n",
    "        try:\n",
    "            if distance(self._info['Coordinates'], enemy._info['Coordinates']) <= self._info['Move Distance']:\n",
    "                self._info['Coordinates'] = [enemy._info['Coordinates'][0], enemy._info['Coordinates'][1], self._info['Coordinates'][2]]\n",
    "                print(f'{self._name} успешно переместился к {enemy._name}!')\n",
    "                      \n",
    "                if enemy._info['Health'] - self._info['Atack'] > 0:\n",
    "                    enemy._info['Health'] -= self._info['Atack']\n",
    "                    print(f'{self._name} успешно атаковал {enemy._name} и нанес {self._info[\"Atack\"]} урона!')\n",
    "                else:\n",
    "                    enemy._info['Move Distance'] = 0\n",
    "                    enemy._info['Atack'] = 0\n",
    "                    enemy._info['Health'] = 0\n",
    "                    enemy._info['Status'] = 'Dead'\n",
    "                    print(f'{enemy._name} пал от рук {self._name}')\n",
    "            else:\n",
    "                return \"Такого врага нет поблизости!\"\n",
    "        except NameError:\n",
    "            print('Такого врага нет в игре!')\n",
    "    \n",
    "    # Функция получения рандомного бонуса\n",
    "    def collect(self):\n",
    "        self._bonus_type = randint(1,3)\n",
    "        # Бонус на здоровье\n",
    "        if self._bonus_type == 1:\n",
    "            self._bonus_value = randint(-10,10)\n",
    "            if self._info['Health'] + self._bonus_value >= 1:\n",
    "                self._info['Health'] += self._bonus_value\n",
    "            else:\n",
    "                self._info['Health'] = 1\n",
    "            print(f'Здоровье увеличено/уменьшено на {self._bonus_value} единиц!')\n",
    "        # Бонус на урон\n",
    "        elif self._bonus_type == 1:\n",
    "            self._bonus_value = randint(-5,5)\n",
    "            if self._info['Atack'] + self._bonus_value >= 1:\n",
    "                self._info['Atack'] += self._bonus_value\n",
    "            else:\n",
    "                self._info['Atack'] = 1\n",
    "            print(f'Сила атаки увеличена/уменьшена на {self._bonus_value} единиц!')\n",
    "        # Бонус на дальность перемещения\n",
    "        else:\n",
    "            self._bonus_value = randint(-2, 2)\n",
    "            if self._info['Move Distance'] + self._bonus_value >= 1:\n",
    "                self._info['Move Distance'] += self._bonus_value\n",
    "            else:\n",
    "                self._info['Move Distance'] = 1\n",
    "            print(f'Дальность перемещения увеличена/уменьшена на {self._bonus_value} единиц!')\n"
   ]
  },
  {
   "cell_type": "code",
   "execution_count": 43,
   "metadata": {},
   "outputs": [],
   "source": [
    "# Очень мобильный класс, однако обладает небольшим запасом здоровья\n",
    "class Wizard(Hero):\n",
    "    \n",
    "    def __init__(self, name='Untitled', x=0, y=0):\n",
    "        Hero.__init__(self, name, x, y, 4, 50, 25)\n",
    "        self._info['Class'] = 'Wizard'\n",
    "    \n",
    "    # Общая информация\n",
    "    def hero_info(self):\n",
    "        self._class = 'Wizard'\n",
    "        print(f\"Имя: {self._name}\\nКласс: {self._class}\")\n",
    "    \n",
    "    # Опция полета для магов, увеличивающая их скорость передвижения, но уменьшающая их урон\n",
    "    def take_off(self):\n",
    "        if self._info['Coordinates'][2] == 0:\n",
    "            self._info['Coordinates'][2] = 1\n",
    "            self._info['Atack'] = self._info['Atack']/2\n",
    "            self._info['Move Distance'] = self._info['Move Distance'] * 2\n",
    "            print(f'{self._name} взлетел и парит над землей!')\n",
    "        else:\n",
    "            print(f'{self._name} уже в воздухе!')\n",
    "    \n",
    "    def go_down(self):\n",
    "        if self._info['Coordinates'][2] == 1:\n",
    "            self._info['Coordinates'][2] = 0\n",
    "            self._info['Atack'] = self._info['Atack'] * 2\n",
    "            self._info['Move Distance'] = self._info['Move Distance'] / 2\n",
    "            print(f'{self._name} сел на землю!')\n",
    "        else:\n",
    "            print(f'{self._name} уже на земле!')\n",
    "            "
   ]
  },
  {
   "cell_type": "code",
   "execution_count": 44,
   "metadata": {},
   "outputs": [],
   "source": [
    "# Свирепый воин, обладающий высокими боевыми характеристиками. Из-за тяделых лат имеет небольшую дальность передвижения.\n",
    "class Warrior(Hero):\n",
    "    \n",
    "    def __init__(self, name='Untitled', x=0, y=0):\n",
    "        Hero.__init__(self, name, x, y, 2, 200, 30)\n",
    "        self._info['Class'] = 'Warrior'\n",
    "    \n",
    "    # Общая информация\n",
    "    def hero_info(self):\n",
    "        self._class = 'Warrior'\n",
    "        print(f\"Имя: {self._name}\\nКласс: {self._class}\")"
   ]
  },
  {
   "cell_type": "code",
   "execution_count": 45,
   "metadata": {},
   "outputs": [],
   "source": [
    "# Барды довольно слабы в начале игры, однако обладают очень высоким потенциалом из-за своей уникальной способности.\n",
    "class Bard(Hero):\n",
    "    \n",
    "    def __init__(self, name='Untitled', x=0, y=0):\n",
    "        Hero.__init__(self, name, x, y, 3, 50, 10)\n",
    "        self._info['Class'] = 'Bard'\n",
    "    \n",
    "    # Общая информация\n",
    "    def hero_info(self):\n",
    "        self._class = 'Bard'\n",
    "        print(f\"Имя: {self._name}\\nКласс: {self._class}\")\n",
    "    \n",
    "    # Уникальная способность барда (улучшенная версия сбора бонуса)\n",
    "    def play(self):\n",
    "        self._bonus_type = randint(1,3)\n",
    "        # Бонус на здоровье\n",
    "        if self._bonus_type == 1:\n",
    "            self._bonus_value = randint(0,10)\n",
    "            if self._info['Health'] + self._bonus_value >= 1:\n",
    "                self._info['Health'] += self._bonus_value\n",
    "            else:\n",
    "                self._info['Health'] = 1\n",
    "            print(f'Играет приятная музыка. Здоровье барда увеличено на {self._bonus_value} единиц!')\n",
    "        # Бонус на урон\n",
    "        elif self._bonus_type == 1:\n",
    "            self._bonus_value = randint(0,4)\n",
    "            if self._info['Atack'] + self._bonus_value >= 1:\n",
    "                self._info['Atack'] += self._bonus_value\n",
    "            else:\n",
    "                self._info['Atack'] = 1\n",
    "            print(f'Играет приятная музыка. Сила атаки барда увеличена на {self._bonus_value} единиц!')\n",
    "        # Бонус на дальность перемещения\n",
    "        else:\n",
    "            self._bonus_value = randint(0, 1)\n",
    "            if self._info['Move Distance'] + self._bonus_value >= 1:\n",
    "                self._info['Move Distance'] += self._bonus_value\n",
    "            else:\n",
    "                self._info['Move Distance'] = 1\n",
    "            print(f'Играет приятная музыка. Дальность перемещения барда увеличена на {self._bonus_value} единиц!')"
   ]
  },
  {
   "cell_type": "code",
   "execution_count": 46,
   "metadata": {
    "id": "supported-engineering"
   },
   "outputs": [],
   "source": [
    "# Тест хода игры\n",
    "h1 = Warrior('Peresvet')\n",
    "h2 = Wizard('Gendalf')\n",
    "h3 = Bard('Gascoigne')"
   ]
  },
  {
   "cell_type": "code",
   "execution_count": 47,
   "metadata": {},
   "outputs": [
    {
     "name": "stdout",
     "output_type": "stream",
     "text": [
      "Имя: Peresvet\n",
      "Класс: Warrior\n",
      "Здоровье: 200\n",
      "Атака: 30\n",
      "Дальность перемещения: 2\n",
      "Текущие координаты: [0, 0, 0]\n",
      "Статус: Alive\n"
     ]
    }
   ],
   "source": [
    "h1.hero_info()\n",
    "print(h1)"
   ]
  },
  {
   "cell_type": "code",
   "execution_count": 48,
   "metadata": {},
   "outputs": [
    {
     "name": "stdout",
     "output_type": "stream",
     "text": [
      "Имя: Gendalf\n",
      "Класс: Wizard\n",
      "Здоровье: 50\n",
      "Атака: 25\n",
      "Дальность перемещения: 4\n",
      "Текущие координаты: [0, 0, 0]\n",
      "Статус: Alive\n"
     ]
    }
   ],
   "source": [
    "h2.hero_info()\n",
    "print(h2)"
   ]
  },
  {
   "cell_type": "code",
   "execution_count": 49,
   "metadata": {},
   "outputs": [
    {
     "name": "stdout",
     "output_type": "stream",
     "text": [
      "Имя: Gascoigne\n",
      "Класс: Bard\n",
      "Здоровье: 50\n",
      "Атака: 10\n",
      "Дальность перемещения: 3\n",
      "Текущие координаты: [0, 0, 0]\n",
      "Статус: Alive\n"
     ]
    }
   ],
   "source": [
    "h3.hero_info()\n",
    "print(h3)"
   ]
  },
  {
   "cell_type": "code",
   "execution_count": 50,
   "metadata": {},
   "outputs": [
    {
     "name": "stdout",
     "output_type": "stream",
     "text": [
      "Peresvet успешно переместился к Gendalf!\n",
      "Peresvet успешно атаковал Gendalf и нанес 30 урона!\n"
     ]
    }
   ],
   "source": [
    "h1.fight(h2)"
   ]
  },
  {
   "cell_type": "code",
   "execution_count": 51,
   "metadata": {},
   "outputs": [
    {
     "name": "stdout",
     "output_type": "stream",
     "text": [
      "Gendalf взлетел и парит над землей!\n"
     ]
    }
   ],
   "source": [
    "h2.take_off()"
   ]
  },
  {
   "cell_type": "code",
   "execution_count": 52,
   "metadata": {},
   "outputs": [
    {
     "name": "stdout",
     "output_type": "stream",
     "text": [
      "Имя: Gendalf\n",
      "Класс: Wizard\n",
      "Здоровье: 20\n",
      "Атака: 12.5\n",
      "Дальность перемещения: 8\n",
      "Текущие координаты: [0, 0, 1]\n",
      "Статус: Alive\n"
     ]
    }
   ],
   "source": [
    "h2.hero_info()\n",
    "print(h2)"
   ]
  },
  {
   "cell_type": "code",
   "execution_count": 53,
   "metadata": {},
   "outputs": [
    {
     "name": "stdout",
     "output_type": "stream",
     "text": [
      "Играет приятная музыка. Дальность перемещения барда увеличена на 0 единиц!\n"
     ]
    }
   ],
   "source": [
    "h3.play()"
   ]
  },
  {
   "cell_type": "code",
   "execution_count": 54,
   "metadata": {},
   "outputs": [
    {
     "name": "stdout",
     "output_type": "stream",
     "text": [
      "Слишком далеко, я не могу до туда добраться!\n"
     ]
    }
   ],
   "source": [
    "h1.move(5, 5)"
   ]
  },
  {
   "cell_type": "code",
   "execution_count": 55,
   "metadata": {},
   "outputs": [
    {
     "name": "stdout",
     "output_type": "stream",
     "text": [
      "Здоровье увеличено/уменьшено на -5 единиц!\n"
     ]
    }
   ],
   "source": [
    "h1.collect()"
   ]
  },
  {
   "cell_type": "code",
   "execution_count": 56,
   "metadata": {},
   "outputs": [
    {
     "name": "stdout",
     "output_type": "stream",
     "text": [
      "Персонаж успешно переместился по координатам [5, 5, 0]!\n"
     ]
    }
   ],
   "source": [
    "h2.move(5, 5)"
   ]
  },
  {
   "cell_type": "code",
   "execution_count": 57,
   "metadata": {},
   "outputs": [
    {
     "name": "stdout",
     "output_type": "stream",
     "text": [
      "Gascoigne успешно переместился к Peresvet!\n",
      "Gascoigne успешно атаковал Peresvet и нанес 10 урона!\n"
     ]
    }
   ],
   "source": [
    "h3.fight(h1)"
   ]
  },
  {
   "cell_type": "code",
   "execution_count": 58,
   "metadata": {},
   "outputs": [
    {
     "data": {
      "text/plain": [
       "'Такого врага нет поблизости!'"
      ]
     },
     "execution_count": 58,
     "metadata": {},
     "output_type": "execute_result"
    }
   ],
   "source": [
    "h1.fight(h2)"
   ]
  },
  {
   "cell_type": "code",
   "execution_count": 61,
   "metadata": {},
   "outputs": [
    {
     "name": "stdout",
     "output_type": "stream",
     "text": [
      "Peresvet успешно переместился к Gascoigne!\n",
      "Peresvet успешно атаковал Gascoigne и нанес 30 урона!\n"
     ]
    }
   ],
   "source": [
    "h1.fight(h3)"
   ]
  },
  {
   "cell_type": "code",
   "execution_count": 62,
   "metadata": {},
   "outputs": [
    {
     "name": "stdout",
     "output_type": "stream",
     "text": [
      "Peresvet успешно переместился к Gascoigne!\n",
      "Gascoigne пал от рук Peresvet\n"
     ]
    }
   ],
   "source": [
    "h1.fight(h3)"
   ]
  },
  {
   "cell_type": "code",
   "execution_count": 63,
   "metadata": {},
   "outputs": [
    {
     "name": "stdout",
     "output_type": "stream",
     "text": [
      "Имя: Peresvet\n",
      "Класс: Warrior\n",
      "Здоровье: 185\n",
      "Атака: 30\n",
      "Дальность перемещения: 2\n",
      "Текущие координаты: [0, 0, 0]\n",
      "Статус: Alive\n"
     ]
    }
   ],
   "source": [
    "h1.hero_info()\n",
    "print(h1)"
   ]
  },
  {
   "cell_type": "code",
   "execution_count": 64,
   "metadata": {},
   "outputs": [
    {
     "name": "stdout",
     "output_type": "stream",
     "text": [
      "Имя: Gascoigne\n",
      "Класс: Bard\n",
      "Здоровье: 0\n",
      "Атака: 0\n",
      "Дальность перемещения: 0\n",
      "Текущие координаты: [0, 0, 0]\n",
      "Статус: Dead\n"
     ]
    }
   ],
   "source": [
    "h3.hero_info()\n",
    "print(h3)"
   ]
  },
  {
   "cell_type": "code",
   "execution_count": null,
   "metadata": {},
   "outputs": [],
   "source": []
  }
 ],
 "metadata": {
  "colab": {
   "name": "Текущий_контроль_02.ipynb",
   "provenance": []
  },
  "kernelspec": {
   "display_name": "Python 3",
   "language": "python",
   "name": "python3"
  },
  "language_info": {
   "codemirror_mode": {
    "name": "ipython",
    "version": 3
   },
   "file_extension": ".py",
   "mimetype": "text/x-python",
   "name": "python",
   "nbconvert_exporter": "python",
   "pygments_lexer": "ipython3",
   "version": "3.7.4"
  }
 },
 "nbformat": 4,
 "nbformat_minor": 5
}
